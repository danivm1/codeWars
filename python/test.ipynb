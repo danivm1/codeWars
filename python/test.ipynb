{
 "cells": [
  {
   "cell_type": "code",
   "execution_count": 1,
   "metadata": {},
   "outputs": [
    {
     "name": "stdout",
     "output_type": "stream",
     "text": [
      "0 1 3 4 5 6 7 8 9 "
     ]
    }
   ],
   "source": [
    "lis = [i for i in range(10)]\n",
    "\n",
    "for i in lis:\n",
    "    if i == 0: lis.remove(2)\n",
    "    print(i, end=\" \")"
   ]
  },
  {
   "cell_type": "code",
   "execution_count": 24,
   "metadata": {},
   "outputs": [
    {
     "name": "stdout",
     "output_type": "stream",
     "text": [
      "[2, 3, 5, 7, 11, 13, 17, 19, 23, 29, 31, 37, 41, 43, 47, 53, 59, 61, 67, 71, 73, 79, 83, 89, 97, 101, 103, 107, 109, 113, 127, 131, 137, 139, 149, 151, 157, 163, 167, 173, 179, 181, 191, 193, 197, 199, 211, 223, 227, 229, 233, 239, 241, 251, 257, 263, 269, 271, 277, 281, 283, 293, 307, 311, 313]\n",
      "2.29 ms ± 0 ns per loop (mean ± std. dev. of 1 run, 1 loop each)\n"
     ]
    }
   ],
   "source": [
    "def get_primes(m: int):\n",
    "    primeList = [i for i in range(2, m + 1)]\n",
    "\n",
    "    for i in primeList:\n",
    "        for x in range(i*2, max(primeList) + 1, i):\n",
    "            try: primeList.remove(x)\n",
    "            except: pass\n",
    "\n",
    "        if i > (m**0.5)//1: break\n",
    "\n",
    "    return primeList\n",
    "\n",
    "%timeit -n 1 -r 1 print([i for i in get_primes(315)])\n",
    "\n",
    "# print([2, 3, 5, 7, 11, 13, 17, 19, 23, 29, 31, 37, 41, 43, 47, 53, 59, 61, 67, 71, 73, 79, 83, 89, 97, 101, 103, 107, 109, 113])\n",
    "# print([i for i in get_primes(120)])"
   ]
  },
  {
   "cell_type": "code",
   "execution_count": 28,
   "metadata": {},
   "outputs": [
    {
     "name": "stdout",
     "output_type": "stream",
     "text": [
      "2 2 2 5 5\n"
     ]
    }
   ],
   "source": [
    "def prime_factors(n: int):\n",
    "    p, i = 2, 1\n",
    "\n",
    "    while p**2 <= n:\n",
    "        while n % p == 0:\n",
    "            yield p\n",
    "            n //= p\n",
    "    \n",
    "        p += i\n",
    "        i = 2\n",
    "    \n",
    "    if n > 1 : yield n\n",
    "\n",
    "\n",
    "print(*prime_factors(200))"
   ]
  },
  {
   "cell_type": "code",
   "execution_count": 10,
   "metadata": {},
   "outputs": [
    {
     "name": "stdout",
     "output_type": "stream",
     "text": [
      "{'asd': [1]}\n"
     ]
    }
   ],
   "source": [
    "d = {}\n",
    "\n",
    "d['asd'] = []\n",
    "\n",
    "d['asd'].append(1)\n",
    "\n",
    "print(d)"
   ]
  },
  {
   "cell_type": "code",
   "execution_count": 12,
   "metadata": {},
   "outputs": [
    {
     "name": "stdout",
     "output_type": "stream",
     "text": [
      "45\n"
     ]
    }
   ],
   "source": [
    "l = [30, 15, -45]\n",
    "\n",
    "print(abs(max(l, key=abs)))"
   ]
  },
  {
   "cell_type": "code",
   "execution_count": 68,
   "metadata": {},
   "outputs": [
    {
     "data": {
      "text/plain": [
       "9"
      ]
     },
     "execution_count": 68,
     "metadata": {},
     "output_type": "execute_result"
    }
   ],
   "source": [
    "def gcd(lst):\n",
    "    numbers = [i[0] for i in lst]\n",
    "    numbers.append(lst[0][1])\n",
    "    numbers = set(numbers)\n",
    "\n",
    "    stop = False\n",
    "\n",
    "    while not stop:\n",
    "        numbers = sorted(numbers)\n",
    "        x = numbers[0]\n",
    "        for i, n in enumerate(numbers):\n",
    "            if len(set(numbers)) == 1:\n",
    "                stop = True\n",
    "                break\n",
    "\n",
    "            while x < n:\n",
    "                n = n - x\n",
    "        \n",
    "            numbers[i] = n\n",
    "\n",
    "    return numbers[0]\n",
    "\n",
    "\n",
    "# gcd([[35, 77], [91, 77]])\n",
    "# gcd([[11, 13], [7, 13]])\n",
    "gcd([[108, 99], [72, 99]])"
   ]
  },
  {
   "cell_type": "code",
   "execution_count": 76,
   "metadata": {},
   "outputs": [
    {
     "name": "stdout",
     "output_type": "stream",
     "text": [
      "(1, 0)\n"
     ]
    }
   ],
   "source": [
    "def gcd(a, b):\n",
    "    while b != 0:\n",
    "        return gcd(b, a % b)\n",
    "    return a, b\n",
    "\n",
    "print(gcd(35, 24))"
   ]
  },
  {
   "cell_type": "code",
   "execution_count": 4,
   "metadata": {},
   "outputs": [],
   "source": [
    "import sys\n",
    "\n",
    "sys.set_int_max_str_digits(100000000)\n",
    "\n",
    "def last_digit(lst):\n",
    "    if lst == []: return 1\n",
    "\n",
    "    x = lst[-1]\n",
    "    d =len(lst)-2\n",
    "    for i in range(len(lst)-2, 0, -1):\n",
    "        y = pow(lst[i], x, 100000000000000000000000) if x != 0 or lst[i] != 0 else 1\n",
    "        \n",
    "    return pow(lst[0], y)\n",
    "\n",
    "print(last_digit([937640, 767456, 981242]))"
   ]
  },
  {
   "cell_type": "code",
   "execution_count": 8,
   "metadata": {},
   "outputs": [
    {
     "data": {
      "text/plain": [
       "2417851639229258349412352"
      ]
     },
     "execution_count": 8,
     "metadata": {},
     "output_type": "execute_result"
    }
   ],
   "source": [
    "a = 3**4\n",
    "# 2417851639229258349412352\n",
    "2**a"
   ]
  },
  {
   "cell_type": "code",
   "execution_count": 25,
   "metadata": {},
   "outputs": [
    {
     "data": {
      "text/plain": [
       "2"
      ]
     },
     "execution_count": 25,
     "metadata": {},
     "output_type": "execute_result"
    }
   ],
   "source": [
    "d = {\n",
    "        0: [0, 0, 0, 0],\n",
    "        1: [1, 1, 1, 1],\n",
    "        2: [6, 2, 4, 8],\n",
    "        3: [1, 3, 9, 7],\n",
    "        4: [6, 4, 6, 4],\n",
    "        5: [5, 5, 5, 5],\n",
    "        6: [6, 6, 6, 6],\n",
    "        7: [1, 7, 9, 3],\n",
    "        8: [6, 8, 4, 2],\n",
    "        9: [1, 9, 1, 9]\n",
    "    }\n",
    "\n",
    "lst = [937640, 767456, 981242]\n",
    "lst.reverse()\n",
    "\n",
    "for i in range(len(lst)):\n",
    "    col = lst[i]%4\n",
    "    row = lst[i]%10\n",
    "    ln = d[row][col]\n"
   ]
  },
  {
   "cell_type": "code",
   "execution_count": 28,
   "metadata": {},
   "outputs": [
    {
     "data": {
      "text/plain": [
       "6445346696680782825416437566319089761637456833974531730775458184543286320283182271444696724454069038956845710516853679227391906314472525473605972032157139977579072274536639042609188424239239011508754703739045777656878358529704649968917973772632631547265108988673564340565414669050754107189934461209359173088009071057292182048207055511944321957631107582320769550273817437365425803616634744589768847406628195780833926069430597165954369780522749285621845574781238594256186903953861153303176896441658392575817676370529865789050949704491623251289858656430590799403111474069343311174729961703149302039829967343109506430902163853126226846299671207209843652715121060627707645328639969804594146255823707056928018553927401598448910817392258793829504109367951024355751777080090056862622346984774560976587957623743128115238602925503404340670688575287144521945780599246393041899381575385263083503362455788956808838972800128620297652599730863633054050090438583180834251017752933687059429621385942712776463461594548300808143636567774713596681273497730387423509577668208089024251510674662122432632162869668108587058231036051993177423888135796654318656178668928424648058848051792220086073932556880870287189856073831047955963229398581324101323231362238407743525921216178639759630863960474226981963192351867081978762519381048511502895225154417828433592413836524655836904676713984307823406569179981579147603605719854256521058621172913948212219490172881402521647067562490605538691785584359655383060639443319770538511630392607795855994239188562237591045172170524539916695587989171729234704669970852272933351060812646600238269804791572041061062461501928875344312783778465424827106948266395029882306697236807403393332813731759903371014973752286918973141942533857198916273437430179121966082098941430795643158448995160865252058185826864343164378893117772507107917168573251826491158682856722917102178012299493421142371212159974260697253467269858681739347420919886568774232587558428240114023772479534302834747399213924450634124374545524650721640211344540206968297272857957795161297483376612398654165419198925254600296174534137660467989108971096878378794687024368407062086940073182226762346459197778455449068509159527946121272321674354542956701803601978142689835979192731607207241265008765090796874283616201190465057777089656747003063774051497042738027862183211104731136"
      ]
     },
     "execution_count": 28,
     "metadata": {},
     "output_type": "execute_result"
    }
   ],
   "source": [
    "2**6**5"
   ]
  },
  {
   "cell_type": "code",
   "execution_count": 2,
   "metadata": {},
   "outputs": [
    {
     "data": {
      "text/plain": [
       "1"
      ]
     },
     "execution_count": 2,
     "metadata": {},
     "output_type": "execute_result"
    }
   ],
   "source": [
    "(3**4**5)%10"
   ]
  },
  {
   "cell_type": "code",
   "execution_count": 4,
   "metadata": {},
   "outputs": [
    {
     "data": {
      "text/plain": [
       "7"
      ]
     },
     "execution_count": 4,
     "metadata": {},
     "output_type": "execute_result"
    }
   ],
   "source": [
    "d = {\n",
    "        0: [0, 0, 0, 0],\n",
    "        1: [1, 1, 1, 1],\n",
    "        2: [6, 2, 4, 8],\n",
    "        3: [1, 3, 9, 7],\n",
    "        4: [6, 4, 6, 4],\n",
    "        5: [5, 5, 5, 5],\n",
    "        6: [6, 6, 6, 6],\n",
    "        7: [1, 7, 9, 3],\n",
    "        8: [6, 8, 4, 2],\n",
    "        9: [1, 9, 1, 9]\n",
    "    }\n",
    "\n",
    "lst = [3, 4, 5]\n",
    "lst.reverse()\n",
    "\n",
    "for i in range(len(lst)):\n",
    "    col = lst[i]%4\n",
    "    row = lst[i]%10\n",
    "    ln = d[row][col]\n",
    "\n",
    "ln"
   ]
  },
  {
   "cell_type": "code",
   "execution_count": 2,
   "metadata": {},
   "outputs": [],
   "source": [
    "d = {\n",
    "        0: [0, 0, 0, 0],\n",
    "        1: [1, 1, 1, 1],\n",
    "        2: [6, 2, 4, 8],\n",
    "        3: [1, 3, 9, 7],\n",
    "        4: [6, 4, 6, 4],\n",
    "        5: [5, 5, 5, 5],\n",
    "        6: [6, 6, 6, 6],\n",
    "        7: [1, 7, 9, 3],\n",
    "        8: [6, 8, 4, 2],\n",
    "        9: [1, 9, 1, 9]\n",
    "    }"
   ]
  },
  {
   "cell_type": "code",
   "execution_count": null,
   "metadata": {},
   "outputs": [],
   "source": [
    "lst = [2, 3, 0]\n",
    "# 937640, 767456, 981242\n",
    "# 2, 2, 2, 0\n",
    "def last_digit(lst):\n",
    "    if not lst or lst == [0, 0]: return 1\n",
    "\n",
    "    r = 1\n",
    "    \n",
    "    for n in lst[:0:-1]:\n",
    "        if r < 4:\n",
    "            r = pow(n, r)\n",
    "            continue\n",
    "        r = pow(n, r % 4 + 4)\n",
    "        \n",
    "    return pow(lst[0], r % 4 + 4 if r >= 4 else r, 10)\n",
    "\n",
    "%timeit -r 1 -n 100 print(last_digit(lst))"
   ]
  },
  {
   "cell_type": "code",
   "execution_count": 7,
   "metadata": {},
   "outputs": [
    {
     "data": {
      "text/plain": [
       "'2333333'"
      ]
     },
     "execution_count": 7,
     "metadata": {},
     "output_type": "execute_result"
    }
   ],
   "source": [
    "x = 2304489\n",
    "index = 5\n",
    "digS = str(x)[:-index]\n",
    "digS = digS + str(digS[-1]*index)\n",
    "digS"
   ]
  },
  {
   "cell_type": "code",
   "execution_count": 8,
   "metadata": {},
   "outputs": [
    {
     "data": {
      "text/plain": [
       "1"
      ]
     },
     "execution_count": 8,
     "metadata": {},
     "output_type": "execute_result"
    }
   ],
   "source": [
    "0**0"
   ]
  },
  {
   "cell_type": "code",
   "execution_count": 16,
   "metadata": {},
   "outputs": [
    {
     "name": "stdout",
     "output_type": "stream",
     "text": [
      "1\n"
     ]
    }
   ],
   "source": [
    "print(\"1\") if 999 and 9 else print(\"0\")"
   ]
  },
  {
   "cell_type": "code",
   "execution_count": 5,
   "metadata": {},
   "outputs": [
    {
     "name": "stdout",
     "output_type": "stream",
     "text": [
      "wont won't won't\n"
     ]
    }
   ],
   "source": [
    "import re\n",
    "\n",
    "txt = \"wo$nt wo2n't won't\"\n",
    "rgx = re.compile(\"[^a-zA-Z ']\")\n",
    "txt2 = rgx.sub('', txt)\n",
    "print(txt2)"
   ]
  },
  {
   "cell_type": "code",
   "execution_count": 35,
   "metadata": {},
   "outputs": [
    {
     "data": {
      "text/plain": [
       "list"
      ]
     },
     "execution_count": 35,
     "metadata": {},
     "output_type": "execute_result"
    }
   ],
   "source": [
    "lst = [1, 2, \"diasdi\", 3.4]\n",
    "type(lst)"
   ]
  },
  {
   "cell_type": "code",
   "execution_count": 39,
   "metadata": {},
   "outputs": [
    {
     "name": "stdout",
     "output_type": "stream",
     "text": [
      "6\n",
      "6\n"
     ]
    }
   ],
   "source": [
    "n = 13\n",
    "m = 13\n",
    "\n",
    "n//=2\n",
    "m>>=1\n",
    "1101\n",
    "110\n",
    "11\n",
    "1\n",
    "\n",
    "print(n)\n",
    "print(m)"
   ]
  },
  {
   "cell_type": "code",
   "execution_count": 77,
   "metadata": {},
   "outputs": [
    {
     "data": {
      "text/plain": [
       "1431655766"
      ]
     },
     "execution_count": 77,
     "metadata": {},
     "output_type": "execute_result"
    }
   ],
   "source": [
    "0x5555556"
   ]
  },
  {
   "cell_type": "code",
   "execution_count": 76,
   "metadata": {},
   "outputs": [
    {
     "name": "stdout",
     "output_type": "stream",
     "text": [
      "0b1010101010101010101010101010110\n",
      "0b101010101010101010101010110\n",
      "0b10101010101010101010110\n"
     ]
    }
   ],
   "source": [
    "print(bin(1431655766))\n",
    "print(bin(89478486))\n",
    "print(bin(5592406))"
   ]
  },
  {
   "cell_type": "code",
   "execution_count": 72,
   "metadata": {},
   "outputs": [
    {
     "data": {
      "text/plain": [
       "'0b11100000000000000000000000000001110'"
      ]
     },
     "execution_count": 72,
     "metadata": {},
     "output_type": "execute_result"
    }
   ],
   "source": [
    "bin(0b10101 * 0b1010101010101010101010101010110)"
   ]
  },
  {
   "cell_type": "code",
   "execution_count": 82,
   "metadata": {},
   "outputs": [
    {
     "data": {
      "text/plain": [
       "84"
      ]
     },
     "execution_count": 82,
     "metadata": {},
     "output_type": "execute_result"
    }
   ],
   "source": [
    "251 * 0x56 >> 8"
   ]
  },
  {
   "cell_type": "code",
   "execution_count": 131,
   "metadata": {},
   "outputs": [
    {
     "data": {
      "text/plain": [
       "85"
      ]
     },
     "execution_count": 131,
     "metadata": {},
     "output_type": "execute_result"
    }
   ],
   "source": [
    "255 * 0x56 >> 8"
   ]
  },
  {
   "cell_type": "code",
   "execution_count": 143,
   "metadata": {},
   "outputs": [
    {
     "name": "stdout",
     "output_type": "stream",
     "text": [
      "0b101010101010101010101010101010101010101010101010101010101010110\n",
      "0b10101010101010101010101010101010101010101010101010101010110\n",
      "0b1010101010101010101010101010101010101010101010101010110\n",
      "0b101010101010101010101010101010101010101010101010110\n",
      "0b10101010101010101010101010101010101010101010110\n",
      "0b1010101010101010101010101010101010101010110\n",
      "0b101010101010101010101010101010101010110\n",
      "0b10101010101010101010101010101010110\n",
      "0b1010101010101010101010101010110\n",
      "0b1010110\n",
      "0b101\n",
      "0b1010101\n",
      "0b110\n"
     ]
    }
   ],
   "source": [
    "print(bin(0x5555555555555556))\n",
    "print(bin(0x555555555555556))\n",
    "print(bin(0x55555555555556))\n",
    "print(bin(0x5555555555556))\n",
    "print(bin(0x555555555556))\n",
    "print(bin(0x55555555556))\n",
    "print(bin(0x5555555556))\n",
    "print(bin(0x555555556))\n",
    "print(bin(0x55555556))\n",
    "print(bin(0x56))\n",
    "print(bin(0x5))\n",
    "print(bin(0x55))\n",
    "print(bin(0x6))"
   ]
  },
  {
   "cell_type": "code",
   "execution_count": 247,
   "metadata": {},
   "outputs": [
    {
     "name": "stdout",
     "output_type": "stream",
     "text": [
      "0b110110000\n",
      "0b10101010101010101010101010101011\n",
      "0b10010000\n",
      "144\n"
     ]
    }
   ],
   "source": [
    "print(bin(432))\n",
    "print(bin(0xAAAAAAAB))\n",
    "print(bin(432 * 0xAAAAAAAB >> 33))\n",
    "print(432 * 0xAAAAAAAB >> 33)"
   ]
  },
  {
   "cell_type": "code",
   "execution_count": null,
   "metadata": {},
   "outputs": [],
   "source": [
    "# A    10101010101010101010101010101011\n",
    "# B                           110110000\n",
    "\n",
    "#          00000000000000000000000000000000\n",
    "#      10101010101010101010101010101011\n",
    "#     10101010101010101010101010101011\n",
    "#   10101010101010101010101010101011\n",
    "#  10101010101010101010101010101011\n",
    "#                                         \n",
    "#                                  10010000"
   ]
  },
  {
   "cell_type": "code",
   "execution_count": 158,
   "metadata": {},
   "outputs": [
    {
     "name": "stdout",
     "output_type": "stream",
     "text": [
      "0b10101010101010101010101010101011\n",
      "0b1010101010101010101010101010110\n"
     ]
    }
   ],
   "source": [
    "print(bin(0xAAAAAAAB))\n",
    "print(bin(0x55555556))"
   ]
  },
  {
   "cell_type": "code",
   "execution_count": 200,
   "metadata": {},
   "outputs": [
    {
     "name": "stdout",
     "output_type": "stream",
     "text": [
      "0 : 0 : 1\n",
      "1 : 1 : 1\n",
      "2 : 0 : 3\n",
      "3 : 1 : 3\n",
      "4 : 0 : 5\n",
      "5 : 1 : 5\n",
      "6 : 0 : 7\n",
      "7 : 1 : 7\n",
      "8 : 0 : 9\n",
      "9 : 1 : 9\n",
      "10 : 0 : 11\n",
      "11 : 1 : 11\n",
      "12 : 0 : 13\n",
      "13 : 1 : 13\n",
      "14 : 0 : 15\n"
     ]
    }
   ],
   "source": [
    "a = 1\n",
    "for i in range(15):\n",
    "    print(f\"{i} : {i & a} : {i | a}\")"
   ]
  },
  {
   "cell_type": "code",
   "execution_count": 205,
   "metadata": {},
   "outputs": [
    {
     "name": "stdout",
     "output_type": "stream",
     "text": [
      "214 µs ± 38.9 µs per loop (mean ± std. dev. of 100 runs, 1,000 loops each)\n",
      "198 µs ± 24.6 µs per loop (mean ± std. dev. of 100 runs, 1,000 loops each)\n"
     ]
    }
   ],
   "source": [
    "def c(x):\n",
    "    for i in range(x):\n",
    "        if not i % 2: pass\n",
    "\n",
    "def d(x):\n",
    "    for i in range(x):\n",
    "        if not i & 1: pass\n",
    "\n",
    "%timeit -r 100 -n 1000 c(1000)\n",
    "%timeit -r 100 -n 1000 d(1000)"
   ]
  },
  {
   "cell_type": "code",
   "execution_count": null,
   "metadata": {},
   "outputs": [],
   "source": [
    "def multShift(x, y):\n",
    "    r = 0\n",
    "    while y > 0:\n",
    "        if y & 1:\n",
    "            r += x\n",
    "        x <<= 1\n",
    "        y >>= 1\n",
    "    return r\n",
    "\n",
    "a = 312\n",
    "b = 42\n",
    "\n",
    "print(multShift(a, b))\n",
    "a * b == multShift(a, b)"
   ]
  },
  {
   "cell_type": "code",
   "execution_count": 167,
   "metadata": {},
   "outputs": [
    {
     "name": "stdout",
     "output_type": "stream",
     "text": [
      "3 µs ± 1.01 µs per loop (mean ± std. dev. of 1000 runs, 10,000 loops each)\n"
     ]
    }
   ],
   "source": [
    "%timeit -r 1000 -n 10000 multShift(a, b)"
   ]
  },
  {
   "cell_type": "code",
   "execution_count": 168,
   "metadata": {},
   "outputs": [
    {
     "name": "stdout",
     "output_type": "stream",
     "text": [
      "71.5 ns ± 69.4 ns per loop (mean ± std. dev. of 1000 runs, 10,000 loops each)\n"
     ]
    }
   ],
   "source": [
    "%timeit -r 1000 -n 10000 a * b"
   ]
  },
  {
   "cell_type": "code",
   "execution_count": 45,
   "metadata": {},
   "outputs": [
    {
     "data": {
      "text/plain": [
       "True"
      ]
     },
     "execution_count": 45,
     "metadata": {},
     "output_type": "execute_result"
    }
   ],
   "source": [
    "def blackjack_hand_greater_than(hand_1, hand_2):    \n",
    "    hand_1 = [i if i.isdigit() or i == 'A' else 10 for i in hand_1]\n",
    "    hand_2 = [i if i.isdigit() or i == 'A' else 10 for i in hand_2]\n",
    "    \n",
    "    a_1 = hand_1.count('A')\n",
    "    a_2 = hand_2.count('A')\n",
    "    \n",
    "    if 'A' in hand_1: hand_1 = [i for i in hand_1 if i != 'A']\n",
    "    if 'A' in hand_2: hand_2 = [i for i in hand_2 if i != 'A']\n",
    "    \n",
    "    r_1 = sum(list(map(int, hand_1)))\n",
    "    r_2 = sum(list(map(int, hand_2)))\n",
    "    \n",
    "    for _ in range(a_1): r_1 += 11 if r_1 <= 11 - a_1 else 1\n",
    "    for _ in range(a_2): r_2 += 11 if r_2 <= 11 - a_2 else 1\n",
    "\n",
    "    if r_1 > 21: return False\n",
    "    if r_2 > 21: return True\n",
    "        \n",
    "    return r_1 > r_2\n",
    "\n",
    "blackjack_hand_greater_than(['2', '10', '5', 'A', '9', '9'], ['5', '7', '5', 'Q', '5'])"
   ]
  }
 ],
 "metadata": {
  "kernelspec": {
   "display_name": "Python 3",
   "language": "python",
   "name": "python3"
  },
  "language_info": {
   "codemirror_mode": {
    "name": "ipython",
    "version": 3
   },
   "file_extension": ".py",
   "mimetype": "text/x-python",
   "name": "python",
   "nbconvert_exporter": "python",
   "pygments_lexer": "ipython3",
   "version": "3.11.5"
  }
 },
 "nbformat": 4,
 "nbformat_minor": 2
}
