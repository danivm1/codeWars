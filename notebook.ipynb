{
 "cells": [
  {
   "cell_type": "code",
   "execution_count": 9,
   "metadata": {},
   "outputs": [
    {
     "name": "stdout",
     "output_type": "stream",
     "text": [
      "0\t0\ta\n",
      "0\t0\ta\n"
     ]
    }
   ],
   "source": [
    "import numpy as np\n",
    "\n",
    "# mat = np.arange(16).reshape([4,4])\n",
    "\n",
    "mat = [[0]*2]*2\n",
    "\n",
    "for i in mat:\n",
    "    for j in i:\n",
    "        print(j, end=\"\\t\")\n",
    "    print(\"a\")"
   ]
  }
 ],
 "metadata": {
  "kernelspec": {
   "display_name": "Python 3",
   "language": "python",
   "name": "python3"
  },
  "language_info": {
   "codemirror_mode": {
    "name": "ipython",
    "version": 3
   },
   "file_extension": ".py",
   "mimetype": "text/x-python",
   "name": "python",
   "nbconvert_exporter": "python",
   "pygments_lexer": "ipython3",
   "version": "3.11.5"
  },
  "orig_nbformat": 4
 },
 "nbformat": 4,
 "nbformat_minor": 2
}
